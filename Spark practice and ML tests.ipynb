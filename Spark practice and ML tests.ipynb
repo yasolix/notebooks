{
 "cells": [
  {
   "cell_type": "code",
   "execution_count": 1,
   "metadata": {
    "collapsed": false
   },
   "outputs": [
    {
     "name": "stdout",
     "output_type": "stream",
     "text": [
      "1.6.1\n"
     ]
    }
   ],
   "source": [
    "print sc.version"
   ]
  },
  {
   "cell_type": "code",
   "execution_count": 39,
   "metadata": {
    "collapsed": true
   },
   "outputs": [],
   "source": [
    "def project(rec):\n",
    "    fields = rec.split(',')\n",
    "    return (\", \".join(list([fields[i] for i in [0, 1]])), fields[19])\n",
    "def project(rec,delimiter=','):\n",
    "    fields = rec.split(delimiter)\n",
    "    return (\", \".join(list([fields[i] for i in [0, 1]])), fields[19])"
   ]
  },
  {
   "cell_type": "code",
   "execution_count": 1,
   "metadata": {
    "collapsed": true
   },
   "outputs": [],
   "source": [
    "lines = sc.textFile(\"/tmp/passwd\")"
   ]
  },
  {
   "cell_type": "code",
   "execution_count": 2,
   "metadata": {
    "collapsed": false
   },
   "outputs": [
    {
     "data": {
      "text/plain": [
       "u'root:x:0:0:root:/root:/bin/bash'"
      ]
     },
     "execution_count": 2,
     "metadata": {},
     "output_type": "execute_result"
    }
   ],
   "source": [
    "lines.first()"
   ]
  },
  {
   "cell_type": "code",
   "execution_count": 3,
   "metadata": {
    "collapsed": false
   },
   "outputs": [
    {
     "data": {
      "text/plain": [
       "[u'root:x:0:0:root:/root:/bin/bash',\n",
       " u'bin:x:1:1:bin:/bin:/sbin/nologin',\n",
       " u'daemon:x:2:2:daemon:/sbin:/sbin/nologin',\n",
       " u'adm:x:3:4:adm:/var/adm:/sbin/nologin',\n",
       " u'lp:x:4:7:lp:/var/spool/lpd:/sbin/nologin',\n",
       " u'sync:x:5:0:sync:/sbin:/bin/sync',\n",
       " u'shutdown:x:6:0:shutdown:/sbin:/sbin/shutdown',\n",
       " u'halt:x:7:0:halt:/sbin:/sbin/halt',\n",
       " u'mail:x:8:12:mail:/var/spool/mail:/sbin/nologin',\n",
       " u'uucp:x:10:14:uucp:/var/spool/uucp:/sbin/nologin',\n",
       " u'operator:x:11:0:operator:/root:/sbin/nologin',\n",
       " u'games:x:12:100:games:/usr/games:/sbin/nologin',\n",
       " u'gopher:x:13:30:gopher:/var/gopher:/sbin/nologin',\n",
       " u'ftp:x:14:50:FTP User:/var/ftp:/sbin/nologin',\n",
       " u'nobody:x:99:99:Nobody:/:/sbin/nologin',\n",
       " u'vcsa:x:69:69:virtual console memory owner:/dev:/sbin/nologin',\n",
       " u'saslauth:x:499:76:Saslauthd user:/var/empty/saslauth:/sbin/nologin',\n",
       " u'postfix:x:89:89::/var/spool/postfix:/sbin/nologin',\n",
       " u'sshd:x:74:74:Privilege-separated SSH:/var/empty/sshd:/sbin/nologin',\n",
       " u'postgres:x:26:26:PostgreSQL Server:/var/lib/pgsql:/bin/bash',\n",
       " u'dbus:x:81:81:System message bus:/:/sbin/nologin',\n",
       " u'ntp:x:38:38::/etc/ntp:/sbin/nologin',\n",
       " u'mysql:x:27:27:MySQL Server:/var/lib/mysql:/bin/bash',\n",
       " u'tcpdump:x:72:72::/:/sbin/nologin',\n",
       " u'rpc:x:32:32:Rpcbind Daemon:/var/cache/rpcbind:/sbin/nologin',\n",
       " u'cloud-user:x:500:500:Cloud User:/home/cloud-user:/bin/bash',\n",
       " u'oozie:x:501:501::/home/oozie:/bin/bash',\n",
       " u'hive:x:502:501::/home/hive:/bin/bash',\n",
       " u'mapred:x:503:501::/home/mapred:/bin/bash',\n",
       " u'ambari-qa:x:1001:501::/home/ambari-qa:/bin/bash',\n",
       " u'zookeeper:x:505:501::/home/zookeeper:/bin/bash',\n",
       " u'tez:x:506:501::/home/tez:/bin/bash',\n",
       " u'hdfs:x:507:501::/home/hdfs:/bin/bash',\n",
       " u'yarn:x:508:501::/home/yarn:/bin/bash',\n",
       " u'hcat:x:509:501::/home/hcat:/bin/bash',\n",
       " u'spark:x:510:501::/home/spark:/bin/bash',\n",
       " u'ams:x:511:501::/home/ams:/bin/bash',\n",
       " u'falcon:x:498:491:Falcon:/var/lib/falcon:/bin/bash']"
      ]
     },
     "execution_count": 3,
     "metadata": {},
     "output_type": "execute_result"
    }
   ],
   "source": [
    "lines.collect()"
   ]
  },
  {
   "cell_type": "code",
   "execution_count": 5,
   "metadata": {
    "collapsed": false,
    "scrolled": true
   },
   "outputs": [
    {
     "data": {
      "text/plain": [
       "[u'cloud-user:x:500:500:Cloud User:/home/cloud-user:/bin/bash',\n",
       " u'oozie:x:501:501::/home/oozie:/bin/bash',\n",
       " u'hive:x:502:501::/home/hive:/bin/bash',\n",
       " u'mapred:x:503:501::/home/mapred:/bin/bash',\n",
       " u'ambari-qa:x:1001:501::/home/ambari-qa:/bin/bash',\n",
       " u'zookeeper:x:505:501::/home/zookeeper:/bin/bash',\n",
       " u'tez:x:506:501::/home/tez:/bin/bash',\n",
       " u'hdfs:x:507:501::/home/hdfs:/bin/bash',\n",
       " u'yarn:x:508:501::/home/yarn:/bin/bash',\n",
       " u'hcat:x:509:501::/home/hcat:/bin/bash',\n",
       " u'spark:x:510:501::/home/spark:/bin/bash',\n",
       " u'ams:x:511:501::/home/ams:/bin/bash']"
      ]
     },
     "execution_count": 5,
     "metadata": {},
     "output_type": "execute_result"
    }
   ],
   "source": [
    "lines.filter(lambda l:\"home\" in l ).collect()"
   ]
  },
  {
   "cell_type": "code",
   "execution_count": 37,
   "metadata": {
    "collapsed": false
   },
   "outputs": [
    {
     "data": {
      "text/plain": [
       "[[u'root', u'/root', u'/bin/bash'],\n",
       " [u'bin', u'/bin', u'/sbin/nologin'],\n",
       " [u'daemon', u'/sbin', u'/sbin/nologin'],\n",
       " [u'adm', u'/var/adm', u'/sbin/nologin'],\n",
       " [u'lp', u'/var/spool/lpd', u'/sbin/nologin'],\n",
       " [u'sync', u'/sbin', u'/bin/sync'],\n",
       " [u'shutdown', u'/sbin', u'/sbin/shutdown'],\n",
       " [u'halt', u'/sbin', u'/sbin/halt'],\n",
       " [u'mail', u'/var/spool/mail', u'/sbin/nologin'],\n",
       " [u'uucp', u'/var/spool/uucp', u'/sbin/nologin'],\n",
       " [u'operator', u'/root', u'/sbin/nologin'],\n",
       " [u'games', u'/usr/games', u'/sbin/nologin'],\n",
       " [u'gopher', u'/var/gopher', u'/sbin/nologin'],\n",
       " [u'ftp', u'/var/ftp', u'/sbin/nologin'],\n",
       " [u'nobody', u'/', u'/sbin/nologin'],\n",
       " [u'vcsa', u'/dev', u'/sbin/nologin'],\n",
       " [u'saslauth', u'/var/empty/saslauth', u'/sbin/nologin'],\n",
       " [u'postfix', u'/var/spool/postfix', u'/sbin/nologin'],\n",
       " [u'sshd', u'/var/empty/sshd', u'/sbin/nologin'],\n",
       " [u'postgres', u'/var/lib/pgsql', u'/bin/bash'],\n",
       " [u'dbus', u'/', u'/sbin/nologin'],\n",
       " [u'ntp', u'/etc/ntp', u'/sbin/nologin'],\n",
       " [u'mysql', u'/var/lib/mysql', u'/bin/bash'],\n",
       " [u'tcpdump', u'/', u'/sbin/nologin'],\n",
       " [u'rpc', u'/var/cache/rpcbind', u'/sbin/nologin'],\n",
       " [u'cloud-user', u'/home/cloud-user', u'/bin/bash'],\n",
       " [u'oozie', u'/home/oozie', u'/bin/bash'],\n",
       " [u'hive', u'/home/hive', u'/bin/bash'],\n",
       " [u'mapred', u'/home/mapred', u'/bin/bash'],\n",
       " [u'ambari-qa', u'/home/ambari-qa', u'/bin/bash'],\n",
       " [u'zookeeper', u'/home/zookeeper', u'/bin/bash'],\n",
       " [u'tez', u'/home/tez', u'/bin/bash'],\n",
       " [u'hdfs', u'/home/hdfs', u'/bin/bash'],\n",
       " [u'yarn', u'/home/yarn', u'/bin/bash'],\n",
       " [u'hcat', u'/home/hcat', u'/bin/bash'],\n",
       " [u'spark', u'/home/spark', u'/bin/bash'],\n",
       " [u'ams', u'/home/ams', u'/bin/bash'],\n",
       " [u'falcon', u'/var/lib/falcon', u'/bin/bash']]"
      ]
     },
     "execution_count": 37,
     "metadata": {},
     "output_type": "execute_result"
    }
   ],
   "source": [
    "users = lines.map(lambda line: line.split(\":\")).map(lambda l : [l[0],l[5],l[6]] )\n",
    "users.collect()"
   ]
  },
  {
   "cell_type": "code",
   "execution_count": 7,
   "metadata": {
    "collapsed": false
   },
   "outputs": [
    {
     "name": "stdout",
     "output_type": "stream",
     "text": [
      "1 \n",
      "4 \n",
      "9 \n",
      "16 \n"
     ]
    }
   ],
   "source": [
    "nums = sc.parallelize([1, 2, 3, 4])\n",
    "squared = nums.map(lambda x: x * x).collect()\n",
    "for num in squared:\n",
    "    print \"%i \" % (num)"
   ]
  },
  {
   "cell_type": "code",
   "execution_count": 8,
   "metadata": {
    "collapsed": true
   },
   "outputs": [],
   "source": [
    "from pyspark.mllib.clustering import KMeans\n",
    "from numpy import array\n",
    "from pyspark import SparkContext"
   ]
  },
  {
   "cell_type": "code",
   "execution_count": 9,
   "metadata": {
    "collapsed": true
   },
   "outputs": [],
   "source": [
    "training_data = array([[1,1],[2,2],[1,3],[0.5,0],[0.3,3],[0.9,0.8],[0.9,1.2],[1.1,0.8],[1.8,1.5],[0.8,2.1],\n",
    "                 [3.1,3.3],[3.2,2.9],[3,5],[2.9,4.5],[0.3,0.4],[3,3],[4,4],[3.5,3.1],[3.9,4.2],[2.5,2.9]])"
   ]
  },
  {
   "cell_type": "code",
   "execution_count": 10,
   "metadata": {
    "collapsed": true
   },
   "outputs": [],
   "source": [
    "dist_training_data = sc.parallelize(training_data)"
   ]
  },
  {
   "cell_type": "code",
   "execution_count": 11,
   "metadata": {
    "collapsed": false
   },
   "outputs": [
    {
     "name": "stderr",
     "output_type": "stream",
     "text": [
      "/usr/hdp/2.4.2.0-258/spark/python/pyspark/mllib/clustering.py:176: UserWarning: Support for runs is deprecated in 1.6.0. This param will have no effect in 1.7.0.\n",
      "  \"Support for runs is deprecated in 1.6.0. This param will have no effect in 1.7.0.\")\n"
     ]
    }
   ],
   "source": [
    "clusters = KMeans.train(dist_training_data, 2, maxIterations=10, runs=10, initializationMode=\"random\")"
   ]
  },
  {
   "cell_type": "code",
   "execution_count": 12,
   "metadata": {
    "collapsed": false
   },
   "outputs": [
    {
     "data": {
      "text/plain": [
       "[array([ 3.23333333,  3.65555556]), array([ 0.96363636,  1.43636364])]"
      ]
     },
     "execution_count": 12,
     "metadata": {},
     "output_type": "execute_result"
    }
   ],
   "source": [
    "clusters.centers"
   ]
  },
  {
   "cell_type": "code",
   "execution_count": 13,
   "metadata": {
    "collapsed": false
   },
   "outputs": [
    {
     "data": {
      "text/plain": [
       "0"
      ]
     },
     "execution_count": 13,
     "metadata": {},
     "output_type": "execute_result"
    }
   ],
   "source": [
    "clusters.predict([1,4])"
   ]
  },
  {
   "cell_type": "code",
   "execution_count": 16,
   "metadata": {
    "collapsed": false
   },
   "outputs": [
    {
     "data": {
      "text/plain": [
       "<matplotlib.collections.PathCollection at 0x7fcbb5314250>"
      ]
     },
     "execution_count": 16,
     "metadata": {},
     "output_type": "execute_result"
    },
    {
     "data": {
      "image/png": "[encoded data removed]",
      "text/plain": [
       "<matplotlib.figure.Figure at 0x7fcbbdd3c590>"
      ]
     },
     "metadata": {},
     "output_type": "display_data"
    }
   ],
   "source": [
    "import matplotlib\n",
    "import matplotlib.pyplot as plt\n",
    "%matplotlib inline\n",
    "plt.scatter(*zip(*training_data), color='r', marker='*') \n",
    "plt.scatter(*zip(*clusters.centers), color='g', marker='s')"
   ]
  },
  {
   "cell_type": "code",
   "execution_count": null,
   "metadata": {
    "collapsed": true
   },
   "outputs": [],
   "source": []
  }
 ],
 "metadata": {
  "anaconda-cloud": {},
  "kernelspec": {
   "display_name": "Python [conda root]",
   "language": "python",
   "name": "conda-root-py"
  },
  "language_info": {
   "codemirror_mode": {
    "name": "ipython",
    "version": 2
   },
   "file_extension": ".py",
   "mimetype": "text/x-python",
   "name": "python",
   "nbconvert_exporter": "python",
   "pygments_lexer": "ipython2",
   "version": "2.7.12"
  }
 },
 "nbformat": 4,
 "nbformat_minor": 1
}
